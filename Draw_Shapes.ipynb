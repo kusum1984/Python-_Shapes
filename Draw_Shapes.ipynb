{
  "nbformat": 4,
  "nbformat_minor": 0,
  "metadata": {
    "colab": {
      "provenance": [],
      "authorship_tag": "ABX9TyOCjJajHHr09TcDloCQD9fZ",
      "include_colab_link": true
    },
    "kernelspec": {
      "name": "python3",
      "display_name": "Python 3"
    },
    "language_info": {
      "name": "python"
    }
  },
  "cells": [
    {
      "cell_type": "markdown",
      "metadata": {
        "id": "view-in-github",
        "colab_type": "text"
      },
      "source": [
        "<a href=\"https://colab.research.google.com/github/kusum1984/Python-_Shapes/blob/main/Draw_Shapes.ipynb\" target=\"_parent\"><img src=\"https://colab.research.google.com/assets/colab-badge.svg\" alt=\"Open In Colab\"/></a>"
      ]
    },
    {
      "cell_type": "markdown",
      "source": [
        "# **Print Shapes in Python**\n",
        "\n",
        "\n",
        "\n"
      ],
      "metadata": {
        "id": "uOXoTQaKdEiF"
      }
    },
    {
      "cell_type": "markdown",
      "source": [
        "**Import libraries**"
      ],
      "metadata": {
        "id": "aBC8o1wudEPD"
      }
    },
    {
      "cell_type": "code",
      "execution_count": null,
      "metadata": {
        "id": "o8w0MG33JNCK"
      },
      "outputs": [],
      "source": [
        "import pandas as pd"
      ]
    },
    {
      "cell_type": "markdown",
      "source": [
        "**Print Square**"
      ],
      "metadata": {
        "id": "xoLSx5Vmcfbf"
      }
    },
    {
      "cell_type": "code",
      "source": [
        "a = 4\n",
        "for i in range(a):\n",
        "  for j in range(a ):\n",
        "      print(\"*\",end = \" \")\n",
        "  print()\n",
        "\n"
      ],
      "metadata": {
        "colab": {
          "base_uri": "https://localhost:8080/"
        },
        "id": "U4ggOjekZN0I",
        "outputId": "af097158-75a5-43b2-93d4-8c1165b553f3"
      },
      "execution_count": null,
      "outputs": [
        {
          "output_type": "stream",
          "name": "stdout",
          "text": [
            "* * * * \n",
            "* * * * \n",
            "* * * * \n",
            "* * * * \n"
          ]
        }
      ]
    },
    {
      "cell_type": "markdown",
      "source": [
        "**Print Rectangle**"
      ],
      "metadata": {
        "id": "9mGsvAvfSedW"
      }
    },
    {
      "cell_type": "code",
      "source": [
        "a = 8\n",
        "for i in range(a-4):\n",
        "  for j in range(a ):\n",
        "      print(\"*\",end = \" \")\n",
        "  print()\n"
      ],
      "metadata": {
        "colab": {
          "base_uri": "https://localhost:8080/"
        },
        "id": "zLDhDnIHSOkR",
        "outputId": "19ef88c2-857c-4d51-8529-d97879d3f877"
      },
      "execution_count": 123,
      "outputs": [
        {
          "output_type": "stream",
          "name": "stdout",
          "text": [
            "* * * * * * * * \n",
            "* * * * * * * * \n",
            "* * * * * * * * \n",
            "* * * * * * * * \n"
          ]
        }
      ]
    },
    {
      "cell_type": "markdown",
      "source": [
        "**Print Right Triangle**"
      ],
      "metadata": {
        "id": "Aq8wvbtYS3IX"
      }
    },
    {
      "cell_type": "code",
      "source": [
        "a=5\n",
        "for i in range(1, a + 1):\n",
        "    print(\"*\" * i)\n"
      ],
      "metadata": {
        "colab": {
          "base_uri": "https://localhost:8080/"
        },
        "id": "IPgxzXt7ahml",
        "outputId": "9a28ed2c-39f6-47e4-c335-4b971f9de41a"
      },
      "execution_count": 124,
      "outputs": [
        {
          "output_type": "stream",
          "name": "stdout",
          "text": [
            "*\n",
            "**\n",
            "***\n",
            "****\n",
            "*****\n"
          ]
        }
      ]
    },
    {
      "cell_type": "markdown",
      "source": [
        "**Print inverted Right Triangle**"
      ],
      "metadata": {
        "id": "U5UWa13LS-bg"
      }
    },
    {
      "cell_type": "code",
      "source": [
        "a = 5\n",
        "for i in range(a-1,0, -1):\n",
        "    print(\"*\" *i)"
      ],
      "metadata": {
        "colab": {
          "base_uri": "https://localhost:8080/"
        },
        "id": "YU7nFFy6dE4N",
        "outputId": "c9868f1d-cf76-414d-f688-b0549d62bf7c"
      },
      "execution_count": null,
      "outputs": [
        {
          "output_type": "stream",
          "name": "stdout",
          "text": [
            "****\n",
            "***\n",
            "**\n",
            "*\n"
          ]
        }
      ]
    },
    {
      "cell_type": "markdown",
      "source": [
        "**Print Equilateral Triangle**"
      ],
      "metadata": {
        "id": "dRvBHE5cTJnT"
      }
    },
    {
      "cell_type": "code",
      "source": [
        "\n",
        "\n",
        "a = 5\n",
        "for i in range(a):\n",
        "  for j in range(a-i-1):\n",
        "    print(\" \", end=\" \")\n",
        "  for k in range(i*2+1):\n",
        "    print(\"*\", end=\" \")\n",
        "  print()\n"
      ],
      "metadata": {
        "colab": {
          "base_uri": "https://localhost:8080/"
        },
        "id": "gENpX5VqeQB_",
        "outputId": "ff9b5232-a9dc-45a3-cace-ae823393649f"
      },
      "execution_count": null,
      "outputs": [
        {
          "output_type": "stream",
          "name": "stdout",
          "text": [
            "        * \n",
            "      * * * \n",
            "    * * * * * \n",
            "  * * * * * * * \n",
            "* * * * * * * * * \n"
          ]
        }
      ]
    },
    {
      "cell_type": "markdown",
      "source": [
        "**Print Inverted Equilateral Triangle**"
      ],
      "metadata": {
        "id": "NQMUz4kHPiWv"
      }
    },
    {
      "cell_type": "code",
      "source": [
        "for i in range(a - 2, -1, -1):\n",
        "    for j in range(a - i - 1):\n",
        "        print(\" \", end=\" \")\n",
        "    for k in range(i * 2 + 1):\n",
        "        print(\"*\", end=\" \")\n",
        "    print()\n",
        "\n"
      ],
      "metadata": {
        "colab": {
          "base_uri": "https://localhost:8080/"
        },
        "id": "haY9xbFJPdKc",
        "outputId": "9fa81261-9bc7-4e27-ef15-47f62ee44966"
      },
      "execution_count": 113,
      "outputs": [
        {
          "output_type": "stream",
          "name": "stdout",
          "text": [
            "  * * * * * * * \n",
            "    * * * * * \n",
            "      * * * \n",
            "        * \n"
          ]
        }
      ]
    },
    {
      "cell_type": "markdown",
      "source": [
        "**Print Diamond**"
      ],
      "metadata": {
        "id": "cDjn73JSTXnH"
      }
    },
    {
      "cell_type": "code",
      "source": [
        "\n",
        "\n",
        "a = 5\n",
        "\n",
        "# Print the upper part of the diamond\n",
        "for i in range(a):\n",
        "    for j in range(a - i - 1):\n",
        "        print(\" \", end=\" \")\n",
        "    for k in range(i * 2 + 1):\n",
        "        print(\"*\", end=\" \")\n",
        "    print()\n",
        "\n",
        "# Print the lower part of the diamond\n",
        "for i in range(a - 2, -1, -1):\n",
        "    for j in range(a - i - 1):\n",
        "        print(\" \", end=\" \")\n",
        "    for k in range(i * 2 + 1):\n",
        "        print(\"*\", end=\" \")\n",
        "    print()"
      ],
      "metadata": {
        "colab": {
          "base_uri": "https://localhost:8080/"
        },
        "id": "cry7T-ZynLtL",
        "outputId": "521ad464-e31e-4739-ac9c-07d2442ed98f"
      },
      "execution_count": null,
      "outputs": [
        {
          "output_type": "stream",
          "name": "stdout",
          "text": [
            "        * \n",
            "      * * * \n",
            "    * * * * * \n",
            "  * * * * * * * \n",
            "* * * * * * * * * \n",
            "  * * * * * * * \n",
            "    * * * * * \n",
            "      * * * \n",
            "        * \n"
          ]
        }
      ]
    },
    {
      "cell_type": "markdown",
      "source": [
        "**Print Hourglass shape**"
      ],
      "metadata": {
        "id": "pBMiR_N1Tt9S"
      }
    },
    {
      "cell_type": "code",
      "source": [
        "a = 5\n",
        "\n",
        "# Print the upper part of the inverted triangle\n",
        "for i in range(a - 1, -1, -1):\n",
        "    for j in range(a - i - 1):\n",
        "        print(\" \", end=\" \")\n",
        "    for k in range(i * 2 + 1):\n",
        "        print(\"*\", end=\" \")\n",
        "    print()\n",
        "\n",
        "# Print the lower part of the inverted triangle\n",
        "\n",
        "a = 5\n",
        "for i in range(a):\n",
        "  for j in range(a-i-1):\n",
        "    print(\" \", end=\" \")\n",
        "  for k in range(i*2+1):\n",
        "    print(\"*\", end=\" \")\n",
        "  print()"
      ],
      "metadata": {
        "colab": {
          "base_uri": "https://localhost:8080/"
        },
        "id": "Ml8Y0OYORahJ",
        "outputId": "7aad2b02-64f7-4ef8-e8d6-11974389f369"
      },
      "execution_count": 117,
      "outputs": [
        {
          "output_type": "stream",
          "name": "stdout",
          "text": [
            "* * * * * * * * * \n",
            "  * * * * * * * \n",
            "    * * * * * \n",
            "      * * * \n",
            "        * \n",
            "        * \n",
            "      * * * \n",
            "    * * * * * \n",
            "  * * * * * * * \n",
            "* * * * * * * * * \n"
          ]
        }
      ]
    },
    {
      "cell_type": "code",
      "source": [],
      "metadata": {
        "id": "EfA-VDi-RjNp"
      },
      "execution_count": null,
      "outputs": []
    }
  ]
}